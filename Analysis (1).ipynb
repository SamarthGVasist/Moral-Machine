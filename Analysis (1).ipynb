{
 "cells": [
  {
   "cell_type": "code",
   "execution_count": 1,
   "metadata": {
    "collapsed": true
   },
   "outputs": [],
   "source": [
    "import pandas as pd\n",
    "import numpy as np\n"
   ]
  },
  {
   "cell_type": "code",
   "execution_count": 51,
   "metadata": {},
   "outputs": [
    {
     "name": "stderr",
     "output_type": "stream",
     "text": [
      "/home/taran/anaconda3/lib/python3.7/site-packages/IPython/core/interactiveshell.py:3063: DtypeWarning: Columns (0,1,8,9,10,11,12,17,20,22,23,24) have mixed types.Specify dtype option on import or set low_memory=False.\n",
      "  interactivity=interactivity, compiler=compiler, result=result)\n"
     ]
    }
   ],
   "source": [
    "data = pd.read_csv('SharedResponsesSurvey.csv')"
   ]
  },
  {
   "cell_type": "code",
   "execution_count": 52,
   "metadata": {
    "collapsed": true
   },
   "outputs": [],
   "source": [
    "data = data[['ScenarioOrder','ScenarioTypeStrict', 'Saved','Review_age', 'Review_gender','UserCountry3']]\n"
   ]
  },
  {
   "cell_type": "code",
   "execution_count": 4,
   "metadata": {},
   "outputs": [
    {
     "data": {
      "text/html": [
       "<div>\n",
       "<style scoped>\n",
       "    .dataframe tbody tr th:only-of-type {\n",
       "        vertical-align: middle;\n",
       "    }\n",
       "\n",
       "    .dataframe tbody tr th {\n",
       "        vertical-align: top;\n",
       "    }\n",
       "\n",
       "    .dataframe thead th {\n",
       "        text-align: right;\n",
       "    }\n",
       "</style>\n",
       "<table border=\"1\" class=\"dataframe\">\n",
       "  <thead>\n",
       "    <tr style=\"text-align: right;\">\n",
       "      <th></th>\n",
       "      <th>ScenarioOrder</th>\n",
       "      <th>ScenarioTypeStrict</th>\n",
       "      <th>Saved</th>\n",
       "      <th>Review_age</th>\n",
       "      <th>Review_gender</th>\n",
       "      <th>UserCountry3</th>\n",
       "    </tr>\n",
       "  </thead>\n",
       "  <tbody>\n",
       "    <tr>\n",
       "      <th>0</th>\n",
       "      <td>13.0</td>\n",
       "      <td>Gender</td>\n",
       "      <td>1.0</td>\n",
       "      <td>32.0</td>\n",
       "      <td>male</td>\n",
       "      <td>RUS</td>\n",
       "    </tr>\n",
       "    <tr>\n",
       "      <th>1</th>\n",
       "      <td>8.0</td>\n",
       "      <td>Fitness</td>\n",
       "      <td>0.0</td>\n",
       "      <td>32.0</td>\n",
       "      <td>male</td>\n",
       "      <td>RUS</td>\n",
       "    </tr>\n",
       "    <tr>\n",
       "      <th>2</th>\n",
       "      <td>2.0</td>\n",
       "      <td>Age</td>\n",
       "      <td>0.0</td>\n",
       "      <td>32.0</td>\n",
       "      <td>male</td>\n",
       "      <td>RUS</td>\n",
       "    </tr>\n",
       "    <tr>\n",
       "      <th>3</th>\n",
       "      <td>1.0</td>\n",
       "      <td>Species</td>\n",
       "      <td>0.0</td>\n",
       "      <td>32.0</td>\n",
       "      <td>male</td>\n",
       "      <td>RUS</td>\n",
       "    </tr>\n",
       "    <tr>\n",
       "      <th>4</th>\n",
       "      <td>5.0</td>\n",
       "      <td>Fitness</td>\n",
       "      <td>0.0</td>\n",
       "      <td>32.0</td>\n",
       "      <td>male</td>\n",
       "      <td>RUS</td>\n",
       "    </tr>\n",
       "    <tr>\n",
       "      <th>...</th>\n",
       "      <td>...</td>\n",
       "      <td>...</td>\n",
       "      <td>...</td>\n",
       "      <td>...</td>\n",
       "      <td>...</td>\n",
       "      <td>...</td>\n",
       "    </tr>\n",
       "    <tr>\n",
       "      <th>149994</th>\n",
       "      <td>11.0</td>\n",
       "      <td>Gender</td>\n",
       "      <td>0.0</td>\n",
       "      <td>39.0</td>\n",
       "      <td>male</td>\n",
       "      <td>DEU</td>\n",
       "    </tr>\n",
       "    <tr>\n",
       "      <th>149995</th>\n",
       "      <td>2.0</td>\n",
       "      <td>Random</td>\n",
       "      <td>0.0</td>\n",
       "      <td>39.0</td>\n",
       "      <td>male</td>\n",
       "      <td>DEU</td>\n",
       "    </tr>\n",
       "    <tr>\n",
       "      <th>149996</th>\n",
       "      <td>1.0</td>\n",
       "      <td>Species</td>\n",
       "      <td>1.0</td>\n",
       "      <td>32.0</td>\n",
       "      <td>male</td>\n",
       "      <td>TUR</td>\n",
       "    </tr>\n",
       "    <tr>\n",
       "      <th>149997</th>\n",
       "      <td>12.0</td>\n",
       "      <td>Gender</td>\n",
       "      <td>0.0</td>\n",
       "      <td>32.0</td>\n",
       "      <td>male</td>\n",
       "      <td>TUR</td>\n",
       "    </tr>\n",
       "    <tr>\n",
       "      <th>149998</th>\n",
       "      <td>5.0</td>\n",
       "      <td>Age</td>\n",
       "      <td>0.0</td>\n",
       "      <td>32.0</td>\n",
       "      <td>male</td>\n",
       "      <td>TUR</td>\n",
       "    </tr>\n",
       "  </tbody>\n",
       "</table>\n",
       "<p>132583 rows × 6 columns</p>\n",
       "</div>"
      ],
      "text/plain": [
       "        ScenarioOrder ScenarioTypeStrict  Saved  Review_age Review_gender  \\\n",
       "0                13.0             Gender    1.0        32.0          male   \n",
       "1                 8.0            Fitness    0.0        32.0          male   \n",
       "2                 2.0                Age    0.0        32.0          male   \n",
       "3                 1.0            Species    0.0        32.0          male   \n",
       "4                 5.0            Fitness    0.0        32.0          male   \n",
       "...               ...                ...    ...         ...           ...   \n",
       "149994           11.0             Gender    0.0        39.0          male   \n",
       "149995            2.0             Random    0.0        39.0          male   \n",
       "149996            1.0            Species    1.0        32.0          male   \n",
       "149997           12.0             Gender    0.0        32.0          male   \n",
       "149998            5.0                Age    0.0        32.0          male   \n",
       "\n",
       "       UserCountry3  \n",
       "0               RUS  \n",
       "1               RUS  \n",
       "2               RUS  \n",
       "3               RUS  \n",
       "4               RUS  \n",
       "...             ...  \n",
       "149994          DEU  \n",
       "149995          DEU  \n",
       "149996          TUR  \n",
       "149997          TUR  \n",
       "149998          TUR  \n",
       "\n",
       "[132583 rows x 6 columns]"
      ]
     },
     "execution_count": 4,
     "metadata": {},
     "output_type": "execute_result"
    }
   ],
   "source": [
    "data = data.dropna()\n",
    "data"
   ]
  },
  {
   "cell_type": "code",
   "execution_count": 5,
   "metadata": {},
   "outputs": [
    {
     "data": {
      "text/plain": [
       "\"\\nscenario_1 = data[(data['ScenarioOrder'] == 1)]\\nscenario_1.dropna()\\nscenario_2 = data[(data['ScenarioOrder'] == 2)]\\nscenario_3 = data[(data['ScenarioOrder'] == 3)]\\nscenario_4 = data[(data['ScenarioOrder'] == 4)]\\nscenario_5 = data[(data['ScenarioOrder'] == 5)]\\nscenario_6 = data[(data['ScenarioOrder'] == 6)]\\nscenario_1.shape\""
      ]
     },
     "execution_count": 5,
     "metadata": {},
     "output_type": "execute_result"
    }
   ],
   "source": [
    "data = data[(data['ScenarioOrder'] >= 1) & (data['ScenarioOrder'] <= 6)]\n",
    "'''\n",
    "scenario_1 = data[(data['ScenarioOrder'] == 1)]\n",
    "scenario_1.dropna()\n",
    "scenario_2 = data[(data['ScenarioOrder'] == 2)]\n",
    "scenario_3 = data[(data['ScenarioOrder'] == 3)]\n",
    "scenario_4 = data[(data['ScenarioOrder'] == 4)]\n",
    "scenario_5 = data[(data['ScenarioOrder'] == 5)]\n",
    "scenario_6 = data[(data['ScenarioOrder'] == 6)]\n",
    "scenario_1.shape'''"
   ]
  },
  {
   "cell_type": "code",
   "execution_count": 24,
   "metadata": {
    "collapsed": true
   },
   "outputs": [],
   "source": [
    "data_india = data[(data['UserCountry3'] == \"IND\")]"
   ]
  },
  {
   "cell_type": "code",
   "execution_count": 25,
   "metadata": {
    "collapsed": true
   },
   "outputs": [],
   "source": [
    "###################################################################################################3\n",
    "#Age scenario\n",
    "data_india_age = data_india[(data_india['ScenarioTypeStrict'] == \"Age\")]"
   ]
  },
  {
   "cell_type": "code",
   "execution_count": 85,
   "metadata": {},
   "outputs": [
    {
     "name": "stdout",
     "output_type": "stream",
     "text": [
      "3860      26\n",
      "3867      26\n",
      "4091      22\n",
      "4092      22\n",
      "5582      19\n",
      "          ..\n",
      "142883    18\n",
      "143636    26\n",
      "143644    26\n",
      "146521    25\n",
      "146527    25\n",
      "Name: Review_age, Length: 102, dtype: int64\n"
     ]
    },
    {
     "name": "stderr",
     "output_type": "stream",
     "text": [
      "/home/taran/.local/lib/python3.6/site-packages/ipykernel_launcher.py:1: SettingWithCopyWarning: \n",
      "A value is trying to be set on a copy of a slice from a DataFrame.\n",
      "Try using .loc[row_indexer,col_indexer] = value instead\n",
      "\n",
      "See the caveats in the documentation: https://pandas.pydata.org/pandas-docs/stable/user_guide/indexing.html#returning-a-view-versus-a-copy\n",
      "  \"\"\"Entry point for launching an IPython kernel.\n"
     ]
    }
   ],
   "source": [
    "data_india_age[\"Review_age\"] = data_india_age[\"Review_age\"].astype(int)\n",
    "print(data_india_age[\"Review_age\"])"
   ]
  },
  {
   "cell_type": "code",
   "execution_count": 43,
   "metadata": {},
   "outputs": [
    {
     "name": "stderr",
     "output_type": "stream",
     "text": [
      "/home/taran/.local/lib/python3.6/site-packages/ipykernel_launcher.py:2: SettingWithCopyWarning: \n",
      "A value is trying to be set on a copy of a slice from a DataFrame\n",
      "\n",
      "See the caveats in the documentation: https://pandas.pydata.org/pandas-docs/stable/user_guide/indexing.html#returning-a-view-versus-a-copy\n",
      "  \n"
     ]
    }
   ],
   "source": [
    "data_india_age.sort_values([\"ScenarioOrder\"], axis=0, \n",
    "                 ascending=True, inplace=True) "
   ]
  },
  {
   "cell_type": "code",
   "execution_count": 45,
   "metadata": {
    "collapsed": true
   },
   "outputs": [],
   "source": [
    "data_india_age = data_india_age.dropna()"
   ]
  },
  {
   "cell_type": "code",
   "execution_count": 86,
   "metadata": {},
   "outputs": [
    {
     "data": {
      "text/plain": [
       "102"
      ]
     },
     "execution_count": 86,
     "metadata": {},
     "output_type": "execute_result"
    }
   ],
   "source": [
    "len(data_india_age)"
   ]
  },
  {
   "cell_type": "code",
   "execution_count": 73,
   "metadata": {
    "collapsed": true
   },
   "outputs": [],
   "source": [
    "data_india_age_young =  data_india_age[(data_india_age['Saved'] == 0.0)]\n"
   ]
  },
  {
   "cell_type": "code",
   "execution_count": 74,
   "metadata": {},
   "outputs": [
    {
     "data": {
      "text/plain": [
       "48"
      ]
     },
     "execution_count": 74,
     "metadata": {},
     "output_type": "execute_result"
    }
   ],
   "source": [
    "data_india_age_old =  data_india_age[(data_india_age['Saved'] == 1.0)]\n",
    "data_india_age_old.dropna()\n",
    "len(data_india_age_old)"
   ]
  },
  {
   "cell_type": "code",
   "execution_count": 90,
   "metadata": {
    "collapsed": true
   },
   "outputs": [],
   "source": [
    "len(data_india_age_old)\n",
    "average_age_saving_old = data_india_age_old[\"Review_age\"].sum()/len(data_india_age_old)"
   ]
  },
  {
   "cell_type": "code",
   "execution_count": 94,
   "metadata": {},
   "outputs": [
    {
     "data": {
      "text/plain": [
       "1.851851851851852e+39"
      ]
     },
     "execution_count": 94,
     "metadata": {},
     "output_type": "execute_result"
    }
   ],
   "source": [
    "len(data_india_age_young)\n",
    "average_age_saving_young = data_india_age_young[\"Review_age\"].sum()/len(data_india_age_young)"
   ]
  },
  {
   "cell_type": "code",
   "execution_count": 87,
   "metadata": {},
   "outputs": [
    {
     "data": {
      "text/plain": [
       "23.791666666666668"
      ]
     },
     "execution_count": 87,
     "metadata": {},
     "output_type": "execute_result"
    }
   ],
   "source": [
    "average_age_saving_old"
   ]
  },
  {
   "cell_type": "code",
   "execution_count": 91,
   "metadata": {},
   "outputs": [
    {
     "data": {
      "text/plain": [
       "1.851851851851852e+39"
      ]
     },
     "execution_count": 91,
     "metadata": {},
     "output_type": "execute_result"
    }
   ],
   "source": [
    "average_age_saving_young"
   ]
  },
  {
   "cell_type": "code",
   "execution_count": 93,
   "metadata": {},
   "outputs": [
    {
     "data": {
      "text/plain": [
       "1e+41"
      ]
     },
     "execution_count": 93,
     "metadata": {},
     "output_type": "execute_result"
    }
   ],
   "source": [
    "data_india_age_young[\"Review_age\"].sum()"
   ]
  },
  {
   "cell_type": "code",
   "execution_count": 40,
   "metadata": {
    "collapsed": true
   },
   "outputs": [],
   "source": [
    "males_young = data_india_age_young[(data_india_age_young['Review_gender'] == \"male\")]\n",
    "females_young = data_india_age_young[(data_india_age_young['Review_gender'] == \"female\")]\n",
    "males_old = data_india_age_old[(data_india_age_old['Review_gender'] == \"male\")]\n",
    "females_old = data_india_age_old[(data_india_age_old['Review_gender'] == \"female\")]\n"
   ]
  },
  {
   "cell_type": "code",
   "execution_count": 45,
   "metadata": {
    "collapsed": true
   },
   "outputs": [],
   "source": [
    "x=(len(males_young)/len(data_india_age))*100"
   ]
  },
  {
   "cell_type": "code",
   "execution_count": 46,
   "metadata": {
    "collapsed": true
   },
   "outputs": [],
   "source": [
    "y=(len(males_old)/len(data_india_age))*100"
   ]
  },
  {
   "cell_type": "code",
   "execution_count": 47,
   "metadata": {
    "collapsed": true
   },
   "outputs": [],
   "source": [
    "z=(len(females_old)/len(data_india_age))*100"
   ]
  },
  {
   "cell_type": "code",
   "execution_count": 48,
   "metadata": {
    "collapsed": true
   },
   "outputs": [],
   "source": [
    "t=(len(females_young)/len(data_india_age))*100"
   ]
  },
  {
   "cell_type": "code",
   "execution_count": 49,
   "metadata": {
    "collapsed": true
   },
   "outputs": [],
   "source": [
    "import matplotlib.pyplot as plt"
   ]
  },
  {
   "cell_type": "code",
   "execution_count": 51,
   "metadata": {},
   "outputs": [
    {
     "data": {
      "image/png": "[encoded data removed]",
      "text/plain": [
       "<Figure size 432x288 with 1 Axes>"
      ]
     },
     "metadata": {
      "needs_background": "light"
     },
     "output_type": "display_data"
    }
   ],
   "source": [
    "fig = plt.figure()\n",
    "ax = fig.add_axes([0,0,1,1])\n",
    "preferences = ['males_old', 'males_young', 'females_old', 'females_young']\n",
    "average = [y,x,z,t]\n",
    "ax.bar(preferences,average)\n",
    "plt.show()"
   ]
  },
  {
   "cell_type": "code",
   "execution_count": 52,
   "metadata": {},
   "outputs": [
    {
     "data": {
      "text/plain": [
       "86.95652173913045"
      ]
     },
     "execution_count": 52,
     "metadata": {},
     "output_type": "execute_result"
    }
   ],
   "source": [
    "y/x*100"
   ]
  },
  {
   "cell_type": "code",
   "execution_count": 54,
   "metadata": {},
   "outputs": [
    {
     "data": {
      "text/plain": [
       "40.0"
      ]
     },
     "execution_count": 54,
     "metadata": {},
     "output_type": "execute_result"
    }
   ],
   "source": [
    "t/z*100"
   ]
  },
  {
   "cell_type": "code",
   "execution_count": 8,
   "metadata": {
    "collapsed": true
   },
   "outputs": [],
   "source": [
    "#################################################################################################33\n",
    "#Gender scenarios\n",
    "data_india_gender = data_india[(data_india['ScenarioTypeStrict'] == \"Gender\")]"
   ]
  },
  {
   "cell_type": "code",
   "execution_count": 9,
   "metadata": {},
   "outputs": [
    {
     "name": "stderr",
     "output_type": "stream",
     "text": [
      "/home/taran/anaconda3/lib/python3.7/site-packages/ipykernel_launcher.py:2: SettingWithCopyWarning: \n",
      "A value is trying to be set on a copy of a slice from a DataFrame\n",
      "\n",
      "See the caveats in the documentation: https://pandas.pydata.org/pandas-docs/stable/user_guide/indexing.html#returning-a-view-versus-a-copy\n",
      "  \n"
     ]
    }
   ],
   "source": [
    "data_india_gender.sort_values([\"ScenarioOrder\"], axis=0, \n",
    "                 ascending=True, inplace=True) "
   ]
  },
  {
   "cell_type": "code",
   "execution_count": 10,
   "metadata": {
    "collapsed": true
   },
   "outputs": [],
   "source": [
    "data_india_gender_female =  data_india_gender[(data_india_gender['Saved'] == 1.0)]\n",
    "data_india_gender_male =  data_india_gender[(data_india_gender['Saved'] == 0.0)]\n",
    "average_age_choosing_male = data_india_gender_male[\"Review_age\"].sum()/len(data_india_gender_male)\n",
    "average_age_choosing_female = data_india_gender_female[\"Review_age\"].sum()/len(data_india_gender_female)\n"
   ]
  },
  {
   "cell_type": "code",
   "execution_count": 11,
   "metadata": {
    "collapsed": true
   },
   "outputs": [],
   "source": [
    "males_males = data_india_gender_male[(data_india_gender_male['Review_gender'] == \"male\")]\n",
    "females_males = data_india_gender_male[(data_india_gender_male['Review_gender'] == \"female\")]\n",
    "males_females = data_india_gender_female[(data_india_gender_female['Review_gender'] == \"male\")]\n",
    "females_females = data_india_gender_female[(data_india_gender_female['Review_gender'] == \"female\")]"
   ]
  },
  {
   "cell_type": "code",
   "execution_count": 13,
   "metadata": {},
   "outputs": [
    {
     "data": {
      "image/png": "[encoded data removed]",
      "text/plain": [
       "<Figure size 432x288 with 1 Axes>"
      ]
     },
     "metadata": {
      "needs_background": "light"
     },
     "output_type": "display_data"
    }
   ],
   "source": [
    "import matplotlib.pyplot as plt\n",
    "x1=(len(males_males)/len(data_india_gender))*100\n",
    "x2=(len(females_males)/len(data_india_gender))*100\n",
    "x3=(len(males_females)/len(data_india_gender))*100\n",
    "x4=(len(females_females)/len(data_india_gender))*100\n",
    "fig = plt.figure()\n",
    "ax = fig.add_axes([0,0,1,1])\n",
    "preferences = ['males_males', 'females_males', 'males_females', 'females_females']\n",
    "average = [x1,x2,x3,x4]\n",
    "ax.bar(preferences,average)\n",
    "plt.show()"
   ]
  },
  {
   "cell_type": "code",
   "execution_count": 53,
   "metadata": {
    "collapsed": true
   },
   "outputs": [],
   "source": [
    "########Correlation Plot########\n",
    "# Correlation plots between countries\n",
    "import seaborn as sns\n",
    "data_usa = data[(data['UserCountry3'] == \"USA\")]\n",
    "data_france = data[(data['UserCountry3'] == \"FRA\")]\n",
    "data_russia = data[(data['UserCountry3'] == \"RUS\")]\n",
    "data_japan = data[(data['UserCountry3'] == \"JPN\")] #Switch to Japan"
   ]
  },
  {
   "cell_type": "code",
   "execution_count": 38,
   "metadata": {
    "collapsed": true
   },
   "outputs": [],
   "source": [
    "data_usa_age = data_usa[(data_usa['ScenarioTypeStrict'] == \"Age\")]\n",
    "data_france_age = data_france[(data_france['ScenarioTypeStrict'] == \"Age\")]\n",
    "data_russia_age = data_russia[(data_russia['ScenarioTypeStrict'] == \"Age\")]\n",
    "data_japan_age = data_japan[(data_japan['ScenarioTypeStrict'] == \"Age\")]"
   ]
  },
  {
   "cell_type": "code",
   "execution_count": 39,
   "metadata": {},
   "outputs": [
    {
     "data": {
      "text/plain": [
       "108"
      ]
     },
     "execution_count": 39,
     "metadata": {},
     "output_type": "execute_result"
    }
   ],
   "source": [
    "a = min(len(data_usa_age), len(data_france_age), len(data_russia_age), len(data_japan_age))\n",
    "a\n"
   ]
  },
  {
   "cell_type": "code",
   "execution_count": 40,
   "metadata": {
    "collapsed": true
   },
   "outputs": [],
   "source": [
    "data_usa_age = data_usa_age.sample(n = a)\n",
    "data_france_age = data_france_age.sample(n = a)\n",
    "data_russia_age = data_russia_age.sample(n = a)\n",
    "data_japan_age = data_japan_age.sample(n = a)"
   ]
  },
  {
   "cell_type": "code",
   "execution_count": 41,
   "metadata": {},
   "outputs": [
    {
     "data": {
      "text/html": [
       "<div>\n",
       "<style scoped>\n",
       "    .dataframe tbody tr th:only-of-type {\n",
       "        vertical-align: middle;\n",
       "    }\n",
       "\n",
       "    .dataframe tbody tr th {\n",
       "        vertical-align: top;\n",
       "    }\n",
       "\n",
       "    .dataframe thead th {\n",
       "        text-align: right;\n",
       "    }\n",
       "</style>\n",
       "<table border=\"1\" class=\"dataframe\">\n",
       "  <thead>\n",
       "    <tr style=\"text-align: right;\">\n",
       "      <th></th>\n",
       "      <th>ScenarioOrder</th>\n",
       "      <th>ScenarioTypeStrict</th>\n",
       "      <th>Saved</th>\n",
       "      <th>Review_age</th>\n",
       "      <th>Review_gender</th>\n",
       "      <th>UserCountry3</th>\n",
       "    </tr>\n",
       "  </thead>\n",
       "  <tbody>\n",
       "    <tr>\n",
       "      <th>49647</th>\n",
       "      <td>9.0</td>\n",
       "      <td>Age</td>\n",
       "      <td>0.0</td>\n",
       "      <td>28.0</td>\n",
       "      <td>male</td>\n",
       "      <td>USA</td>\n",
       "    </tr>\n",
       "    <tr>\n",
       "      <th>100857</th>\n",
       "      <td>10.0</td>\n",
       "      <td>Age</td>\n",
       "      <td>1.0</td>\n",
       "      <td>NaN</td>\n",
       "      <td>default</td>\n",
       "      <td>USA</td>\n",
       "    </tr>\n",
       "    <tr>\n",
       "      <th>24894</th>\n",
       "      <td>3.0</td>\n",
       "      <td>Age</td>\n",
       "      <td>0.0</td>\n",
       "      <td>17.0</td>\n",
       "      <td>male</td>\n",
       "      <td>USA</td>\n",
       "    </tr>\n",
       "    <tr>\n",
       "      <th>43405</th>\n",
       "      <td>2.0</td>\n",
       "      <td>Age</td>\n",
       "      <td>1.0</td>\n",
       "      <td>23.0</td>\n",
       "      <td>female</td>\n",
       "      <td>USA</td>\n",
       "    </tr>\n",
       "    <tr>\n",
       "      <th>52141</th>\n",
       "      <td>6.0</td>\n",
       "      <td>Age</td>\n",
       "      <td>0.0</td>\n",
       "      <td>13.0</td>\n",
       "      <td>female</td>\n",
       "      <td>USA</td>\n",
       "    </tr>\n",
       "    <tr>\n",
       "      <th>...</th>\n",
       "      <td>...</td>\n",
       "      <td>...</td>\n",
       "      <td>...</td>\n",
       "      <td>...</td>\n",
       "      <td>...</td>\n",
       "      <td>...</td>\n",
       "    </tr>\n",
       "    <tr>\n",
       "      <th>13835</th>\n",
       "      <td>8.0</td>\n",
       "      <td>Age</td>\n",
       "      <td>1.0</td>\n",
       "      <td>12.0</td>\n",
       "      <td>female</td>\n",
       "      <td>USA</td>\n",
       "    </tr>\n",
       "    <tr>\n",
       "      <th>144062</th>\n",
       "      <td>10.0</td>\n",
       "      <td>Age</td>\n",
       "      <td>1.0</td>\n",
       "      <td>32.0</td>\n",
       "      <td>male</td>\n",
       "      <td>USA</td>\n",
       "    </tr>\n",
       "    <tr>\n",
       "      <th>133349</th>\n",
       "      <td>3.0</td>\n",
       "      <td>Age</td>\n",
       "      <td>0.0</td>\n",
       "      <td>NaN</td>\n",
       "      <td>default</td>\n",
       "      <td>USA</td>\n",
       "    </tr>\n",
       "    <tr>\n",
       "      <th>121409</th>\n",
       "      <td>11.0</td>\n",
       "      <td>Age</td>\n",
       "      <td>1.0</td>\n",
       "      <td>14.0</td>\n",
       "      <td>male</td>\n",
       "      <td>USA</td>\n",
       "    </tr>\n",
       "    <tr>\n",
       "      <th>26567</th>\n",
       "      <td>5.0</td>\n",
       "      <td>Age</td>\n",
       "      <td>0.0</td>\n",
       "      <td>14.0</td>\n",
       "      <td>female</td>\n",
       "      <td>USA</td>\n",
       "    </tr>\n",
       "  </tbody>\n",
       "</table>\n",
       "<p>108 rows × 6 columns</p>\n",
       "</div>"
      ],
      "text/plain": [
       "        ScenarioOrder ScenarioTypeStrict  Saved  Review_age Review_gender  \\\n",
       "49647             9.0                Age    0.0        28.0          male   \n",
       "100857           10.0                Age    1.0         NaN       default   \n",
       "24894             3.0                Age    0.0        17.0          male   \n",
       "43405             2.0                Age    1.0        23.0        female   \n",
       "52141             6.0                Age    0.0        13.0        female   \n",
       "...               ...                ...    ...         ...           ...   \n",
       "13835             8.0                Age    1.0        12.0        female   \n",
       "144062           10.0                Age    1.0        32.0          male   \n",
       "133349            3.0                Age    0.0         NaN       default   \n",
       "121409           11.0                Age    1.0        14.0          male   \n",
       "26567             5.0                Age    0.0        14.0        female   \n",
       "\n",
       "       UserCountry3  \n",
       "49647           USA  \n",
       "100857          USA  \n",
       "24894           USA  \n",
       "43405           USA  \n",
       "52141           USA  \n",
       "...             ...  \n",
       "13835           USA  \n",
       "144062          USA  \n",
       "133349          USA  \n",
       "121409          USA  \n",
       "26567           USA  \n",
       "\n",
       "[108 rows x 6 columns]"
      ]
     },
     "execution_count": 41,
     "metadata": {},
     "output_type": "execute_result"
    }
   ],
   "source": [
    "data_usa_age"
   ]
  },
  {
   "cell_type": "code",
   "execution_count": 42,
   "metadata": {
    "collapsed": true
   },
   "outputs": [],
   "source": [
    "#################Correlation plot age#############\n",
    "####using count of young\n",
    "\n",
    "usa = len(data_usa_age[(data_usa_age['Saved'] == 0)])/len(data_usa_age)\n",
    "fra = len(data_france_age[(data_france_age['Saved'] == 0)])/len(data_france_age)\n",
    "rus = len(data_russia_age[(data_russia_age['Saved'] == 0)])/len(data_russia_age)\n",
    "jpn = len(data_japan_age[(data_japan_age['Saved'] == 0)])/len(data_japan_age)"
   ]
  },
  {
   "cell_type": "code",
   "execution_count": 43,
   "metadata": {
    "collapsed": true
   },
   "outputs": [],
   "source": [
    "uvf = abs(usa-fra)\n",
    "uvr = abs(usa-rus)\n",
    "uvj = abs(usa-jpn)\n",
    "rvu = abs(rus-usa)\n",
    "rvf = abs(rus-fra)\n",
    "rvj = abs(rus-jpn)\n",
    "fvu = abs(fra-usa)\n",
    "fvr = abs(fra-rus)\n",
    "fvj = abs(fra-jpn)\n",
    "jvf = abs(jpn-fra)\n",
    "jvr = abs(jpn-rus)\n",
    "jvu = abs(jpn-usa)"
   ]
  },
  {
   "cell_type": "code",
   "execution_count": 17,
   "metadata": {},
   "outputs": [
    {
     "data": {
      "text/plain": [
       "'\\nuvf = usa/(usa+fra)\\nuvr = usa/(usa+rus)\\nuvj = usa/(usa+jpn)\\nrvu = rus/(usa+rus)\\nrvf = rus/(rus+rus)\\nrvj = rus/(rus+jpn)\\nfvu = fra/(usa+fra)\\nfvr = fra/(fra+rus)\\nfvj = fra/(fra+jpn)\\njvf = jpn/(jpn+fra)\\njvr = jpn/(jpn+rus)\\njvu = jpn/(usa+jpn)\\n'"
      ]
     },
     "execution_count": 17,
     "metadata": {},
     "output_type": "execute_result"
    }
   ],
   "source": [
    "\"\"\"\n",
    "uvf = usa/(usa+fra)\n",
    "uvr = usa/(usa+rus)\n",
    "uvj = usa/(usa+jpn)\n",
    "rvu = rus/(usa+rus)\n",
    "rvf = rus/(rus+rus)\n",
    "rvj = rus/(rus+jpn)\n",
    "fvu = fra/(usa+fra)\n",
    "fvr = fra/(fra+rus)\n",
    "fvj = fra/(fra+jpn)\n",
    "jvf = jpn/(jpn+fra)\n",
    "jvr = jpn/(jpn+rus)\n",
    "jvu = jpn/(usa+jpn)\n",
    "\"\"\""
   ]
  },
  {
   "cell_type": "markdown",
   "metadata": {},
   "source": [
    "### WITH JAPAN"
   ]
  },
  {
   "cell_type": "code",
   "execution_count": 33,
   "metadata": {},
   "outputs": [
    {
     "data": {
      "image/png": "[encoded data removed]",
      "text/plain": [
       "<Figure size 432x288 with 2 Axes>"
      ]
     },
     "metadata": {
      "needs_background": "light"
     },
     "output_type": "display_data"
    }
   ],
   "source": [
    "import plotly.express as px\n",
    "import plotly.figure_factory as ff\n",
    "\n",
    "data=[[0, uvf, uvr, uvj], [fvu, 0, fvr, fvj], [rvu, rvf, 0, rvj], [jvu, jvf, jvr, 0]]\n",
    "x=['USA', 'FRANCE', 'RUSSIA', 'JAPAN']\n",
    "y=['USA', 'FRANCE', 'RUSSIA', 'JAPAN']\n",
    "\n",
    "ax = sns.heatmap(data, annot=True, xticklabels=x, yticklabels=y, cmap=\"YlGnBu\")\n",
    "\n",
    "\n",
    "#fig = ff.create_annotated_heatmap(data,x=x,y=y)\n",
    "\n",
    "#fig.show()\n"
   ]
  },
  {
   "cell_type": "markdown",
   "metadata": {},
   "source": [
    "### With India"
   ]
  },
  {
   "cell_type": "code",
   "execution_count": 44,
   "metadata": {},
   "outputs": [
    {
     "data": {
      "image/png": "[encoded data removed]",
      "text/plain": [
       "<Figure size 432x288 with 2 Axes>"
      ]
     },
     "metadata": {
      "needs_background": "light"
     },
     "output_type": "display_data"
    }
   ],
   "source": [
    "data=[[0, uvf, uvr, uvj], [fvu, 0, fvr, fvj], [rvu, rvf, 0, rvj], [jvu, jvf, jvr, 0]]\n",
    "x=['USA', 'FRANCE', 'RUSSIA', 'INDIA']\n",
    "y=['USA', 'FRANCE', 'RUSSIA', 'INDIA']\n",
    "\n",
    "ax = sns.heatmap(data, annot=True, xticklabels=x, yticklabels=y, cmap=\"YlGnBu\")\n",
    "\n",
    "\n",
    "#fig = ff.create_annotated_heatmap(data,x=x,y=y)\n",
    "\n",
    "#fig.show()"
   ]
  },
  {
   "cell_type": "code",
   "execution_count": 54,
   "metadata": {
    "collapsed": true
   },
   "outputs": [],
   "source": [
    "##############GENDER\n",
    "data_usa_gender = data_usa[(data_usa['ScenarioTypeStrict'] == \"Gender\")]\n",
    "data_france_gender = data_france[(data_france['ScenarioTypeStrict'] == \"Gender\")]\n",
    "data_russia_gender = data_russia[(data_russia['ScenarioTypeStrict'] == \"Gender\")]\n",
    "data_japan_gender = data_japan[(data_japan['ScenarioTypeStrict'] == \"Gender\")]"
   ]
  },
  {
   "cell_type": "code",
   "execution_count": 55,
   "metadata": {
    "collapsed": true
   },
   "outputs": [],
   "source": [
    "usa = len(data_usa_gender[(data_usa_gender['Saved'] == 0)])/len(data_usa_gender)\n",
    "fra = len(data_france_gender[(data_france_gender['Saved'] == 0)])/len(data_france_gender)\n",
    "rus = len(data_russia_gender[(data_russia_gender['Saved'] == 0)])/len(data_russia_gender)\n",
    "jpn = len(data_japan_gender[(data_japan_gender['Saved'] == 0)])/len(data_japan_gender)"
   ]
  },
  {
   "cell_type": "code",
   "execution_count": 63,
   "metadata": {},
   "outputs": [
    {
     "data": {
      "text/plain": [
       "'\\nuvf = usa/(usa+fra)\\nuvr = usa/(usa+rus)\\nuvj = usa/(usa+jpn)\\nrvu = rus/(usa+rus)\\nrvf = rus/(rus+rus)\\nrvj = rus/(rus+jpn)\\nfvu = fra/(usa+fra)\\nfvr = fra/(fra+rus)\\nfvj = fra/(fra+jpn)\\njvf = jpn/(jpn+fra)\\njvr = jpn/(jpn+rus)\\njvu = jpn/(usa+jpn)\\n'"
      ]
     },
     "execution_count": 63,
     "metadata": {},
     "output_type": "execute_result"
    }
   ],
   "source": [
    "\"\"\"\n",
    "uvf = usa/(usa+fra)\n",
    "uvr = usa/(usa+rus)\n",
    "uvj = usa/(usa+jpn)\n",
    "rvu = rus/(usa+rus)\n",
    "rvf = rus/(rus+rus)\n",
    "rvj = rus/(rus+jpn)\n",
    "fvu = fra/(usa+fra)\n",
    "fvr = fra/(fra+rus)\n",
    "fvj = fra/(fra+jpn)\n",
    "jvf = jpn/(jpn+fra)\n",
    "jvr = jpn/(jpn+rus)\n",
    "jvu = jpn/(usa+jpn)\n",
    "\"\"\""
   ]
  },
  {
   "cell_type": "code",
   "execution_count": 56,
   "metadata": {
    "collapsed": true
   },
   "outputs": [],
   "source": [
    "uvf = abs(usa-fra)\n",
    "uvr = abs(usa-rus)\n",
    "uvj = abs(usa-jpn)\n",
    "rvu = abs(rus-usa)\n",
    "rvf = abs(rus-fra)\n",
    "rvj = abs(rus-jpn)\n",
    "fvu = abs(fra-usa)\n",
    "fvr = abs(fra-rus)\n",
    "fvj = abs(fra-jpn)\n",
    "jvf = abs(jpn-fra)\n",
    "jvr = abs(jpn-rus)\n",
    "jvu = abs(jpn-usa)"
   ]
  },
  {
   "cell_type": "code",
   "execution_count": 49,
   "metadata": {},
   "outputs": [
    {
     "data": {
      "image/png": "[encoded data removed]",
      "text/plain": [
       "<Figure size 432x288 with 2 Axes>"
      ]
     },
     "metadata": {
      "needs_background": "light"
     },
     "output_type": "display_data"
    }
   ],
   "source": [
    "import plotly.express as px\n",
    "import plotly.figure_factory as ff\n",
    "\n",
    "data=[[0, uvf, uvr, uvj], [fvu, 0, fvr, fvj], [rvu, rvf, 0, rvj], [jvu, jvf, jvr, 0]]\n",
    "x=['USA', 'FRANCE', 'RUSSIA', 'INDIA']\n",
    "y=['USA', 'FRANCE', 'RUSSIA', 'INDIA']\n",
    "\n",
    "ax = sns.heatmap(data, annot=True, xticklabels=x, yticklabels=y, cmap=\"YlGnBu\")\n"
   ]
  },
  {
   "cell_type": "markdown",
   "metadata": {
    "collapsed": true
   },
   "source": [
    "### JAPAN"
   ]
  },
  {
   "cell_type": "code",
   "execution_count": 57,
   "metadata": {},
   "outputs": [
    {
     "data": {
      "image/png": "[encoded data removed]",
      "text/plain": [
       "<Figure size 432x288 with 2 Axes>"
      ]
     },
     "metadata": {
      "needs_background": "light"
     },
     "output_type": "display_data"
    }
   ],
   "source": [
    "data=[[0, uvf, uvr, uvj], [fvu, 0, fvr, fvj], [rvu, rvf, 0, rvj], [jvu, jvf, jvr, 0]]\n",
    "x=['USA', 'FRANCE', 'RUSSIA', 'JAPAN']\n",
    "y=['USA', 'FRANCE', 'RUSSIA', 'JAPAN']\n",
    "\n",
    "ax = sns.heatmap(data, annot=True, xticklabels=x, yticklabels=y, cmap=\"YlGnBu\")"
   ]
  },
  {
   "cell_type": "code",
   "execution_count": null,
   "metadata": {
    "collapsed": true
   },
   "outputs": [],
   "source": []
  }
 ],
 "metadata": {
  "kernelspec": {
   "display_name": "Python 3",
   "language": "python",
   "name": "python3"
  },
  "language_info": {
   "codemirror_mode": {
    "name": "ipython",
    "version": 3
   },
   "file_extension": ".py",
   "mimetype": "text/x-python",
   "name": "python",
   "nbconvert_exporter": "python",
   "pygments_lexer": "ipython3",
   "version": "3.6.1"
  }
 },
 "nbformat": 4,
 "nbformat_minor": 2
}
